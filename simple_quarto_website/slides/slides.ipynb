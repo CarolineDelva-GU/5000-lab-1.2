{
  "cells": [
    {
      "cell_type": "markdown",
      "metadata": {
        "id": "4-XJzIye05qB"
      },
      "source": [
        "---\n",
        "title: \"Food\"\n",
        "author: \"Caroline Delva\"\n",
        "format: \n",
        "  revealjs:\n",
        "    code-fold: true\n",
        "    echo: true\n",
        "bibliography: ../reference.bib  \n",
        "---\n",
        "\n",
        "\n",
        "## Cuisine\n",
        "\n",
        "Lorem ipsum dolor sit amet, consectetur adipiscing elit, sed do eiusmod tempor incididunt ut labore et dolore magna aliqua. Ut enim ad minim veniam, quis nostrud exercitation ullamco laboris nisi ut aliquip ex ea commodo consequat. Duis aute irure dolor in reprehenderit in voluptate velit esse cillum dolore eu fugiat nulla pariatur. Excepteur sint occaecat cupidatat non proident, sunt in culpa qui officia deserunt mollit anim id est laborum.\n",
        "\n",
        "![fruits](images/fruits.png)\n",
        "\n",
        "\n",
        "\n",
        "## Favorite Restaurants \n",
        "\n",
        "Lorem ipsum odor amet, consectetuer adipiscing elit. Tellus tempor parturient efficitur at hendrerit molestie quisque ipsum! Finibus habitant nascetur lacinia; cubilia purus commodo. Malesuada sed aliquet lacinia; nullam pharetra dignissim taciti. Iaculis ipsum orci habitant eros quisque proin. Elit nunc hac libero; ex nulla ex id suspendisse. Odio iaculis ligula ante luctus aliquam eros taciti placerat. Fermentum massa justo quis ut fames libero convallis tincidunt nulla.\n",
        "\n",
        "\n",
        "![burger](images/burger.png)\n",
        "\n",
        "\n",
        "## Python Code \n",
        "\n",
        "```{python}\n",
        "# Simple print statement\n",
        "print(\"I love eating food.\")\n",
        " \n",
        "\n",
        "```\n",
        "\n",
        "## Refences \n",
        "\n",
        "How to eat healthy? [@lim2018eating].\n",
        "\n",
        "\n",
        "## Code Folding  \n",
        "\n",
        "This is code folding \n",
        "\n",
        "\n",
        "\n",
        "\n",
        "\n"
      ]
    },
    {
      "cell_type": "code",
      "execution_count": null,
      "metadata": {
        "vscode": {
          "languageId": "plaintext"
        }
      },
      "outputs": [],
      "source": [
        "\n",
        "# Simple for loop\n",
        "x = [1,4,6,8]\n",
        "for i in x:\n",
        "  print(i)\n"
      ]
    }
  ],
  "metadata": {
    "colab": {
      "provenance": []
    },
    "kernelspec": {
      "display_name": "Python 3",
      "name": "python3"
    },
    "language_info": {
      "name": "python"
    }
  },
  "nbformat": 4,
  "nbformat_minor": 0
}
